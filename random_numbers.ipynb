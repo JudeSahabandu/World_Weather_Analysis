{
 "cells": [
  {
   "cell_type": "code",
   "execution_count": 1,
   "id": "889dab9b",
   "metadata": {},
   "outputs": [],
   "source": [
    "# Import the random module.\n",
    "import random"
   ]
  },
  {
   "cell_type": "code",
   "execution_count": 2,
   "id": "d43db4a2",
   "metadata": {},
   "outputs": [
    {
     "data": {
      "text/plain": [
       "-75"
      ]
     },
     "execution_count": 2,
     "metadata": {},
     "output_type": "execute_result"
    }
   ],
   "source": [
    "random.randint(-90,90)"
   ]
  },
  {
   "cell_type": "code",
   "execution_count": 3,
   "id": "d0732a4f",
   "metadata": {},
   "outputs": [
    {
     "data": {
      "text/plain": [
       "0.9154434159525504"
      ]
     },
     "execution_count": 3,
     "metadata": {},
     "output_type": "execute_result"
    }
   ],
   "source": [
    "random.random()"
   ]
  },
  {
   "cell_type": "code",
   "execution_count": 5,
   "id": "e23462b1",
   "metadata": {},
   "outputs": [
    {
     "data": {
      "text/plain": [
       "54.17810264548381"
      ]
     },
     "execution_count": 5,
     "metadata": {},
     "output_type": "execute_result"
    }
   ],
   "source": [
    "random_number = random.randint(-90,89) + random.random()\n",
    "random_number"
   ]
  },
  {
   "cell_type": "code",
   "execution_count": 13,
   "id": "bdad1891",
   "metadata": {},
   "outputs": [],
   "source": [
    "# Compiling conditional statement with random function to get desired latitude output range\n",
    "\n",
    "x = 1\n",
    "latitudes = []\n",
    "while x < 11:\n",
    "    random_lat = random.randint(-90, 89) + random.random()\n",
    "    latitudes.append(random_lat)\n",
    "    x += 1"
   ]
  },
  {
   "cell_type": "code",
   "execution_count": 14,
   "id": "d483b79c",
   "metadata": {},
   "outputs": [
    {
     "data": {
      "text/plain": [
       "[80.32855646749138,\n",
       " 51.82956706951013,\n",
       " 33.11706128515185,\n",
       " -42.02371708535854,\n",
       " 53.4869895406133,\n",
       " -5.107698171842024,\n",
       " 31.571673974508894,\n",
       " -16.584246200314976,\n",
       " 1.1557649215737071,\n",
       " -68.39788391477563]"
      ]
     },
     "execution_count": 14,
     "metadata": {},
     "output_type": "execute_result"
    }
   ],
   "source": [
    "latitudes"
   ]
  },
  {
   "cell_type": "code",
   "execution_count": 15,
   "id": "1d473617",
   "metadata": {},
   "outputs": [
    {
     "data": {
      "text/plain": [
       "-54"
      ]
     },
     "execution_count": 15,
     "metadata": {},
     "output_type": "execute_result"
    }
   ],
   "source": [
    "random.randrange(-90, 90, step=3)\n",
    "\n",
    "#Note: can be combined with random.random() to provide similar output as above"
   ]
  },
  {
   "cell_type": "code",
   "execution_count": 16,
   "id": "33bbb175",
   "metadata": {},
   "outputs": [
    {
     "data": {
      "text/plain": [
       "83.81401375345877"
      ]
     },
     "execution_count": 16,
     "metadata": {},
     "output_type": "execute_result"
    }
   ],
   "source": [
    "random.uniform(-90, 90)"
   ]
  },
  {
   "cell_type": "code",
   "execution_count": 17,
   "id": "daea62a0",
   "metadata": {},
   "outputs": [],
   "source": [
    "# Import the NumPy module.\n",
    "import numpy as np"
   ]
  },
  {
   "cell_type": "code",
   "execution_count": 18,
   "id": "2ab28298",
   "metadata": {},
   "outputs": [
    {
     "data": {
      "text/plain": [
       "-75.71753403282251"
      ]
     },
     "execution_count": 18,
     "metadata": {},
     "output_type": "execute_result"
    }
   ],
   "source": [
    "np.random.uniform(-90.000, 90.000)"
   ]
  },
  {
   "cell_type": "code",
   "execution_count": 19,
   "id": "4edcbac1",
   "metadata": {},
   "outputs": [
    {
     "data": {
      "text/plain": [
       "31.755676428198967"
      ]
     },
     "execution_count": 19,
     "metadata": {},
     "output_type": "execute_result"
    }
   ],
   "source": [
    "np.random.uniform(low=-90, high=90)"
   ]
  },
  {
   "cell_type": "code",
   "execution_count": 20,
   "id": "fbe77c24",
   "metadata": {},
   "outputs": [
    {
     "data": {
      "text/plain": [
       "array([-11.56318032,  76.84558998,  71.73404889, -27.86133594,\n",
       "        28.87672256, -51.29785961,  70.36358103,  49.18374258,\n",
       "        76.45707513, -86.93185402,  63.11485982,   5.64431749,\n",
       "       -78.79650225,  -7.67557832, -13.45220561,  65.61990641,\n",
       "        45.98328646,  46.43586323,  81.25877978,  50.54073929,\n",
       "       -15.94036816, -43.41330407, -40.29091246,  23.40146187,\n",
       "       -57.99818729,  13.77157279,  34.06153175,  -5.20107169,\n",
       "       -73.74516348, -24.60359407,  42.79260377, -23.05484111,\n",
       "       -62.50680004,   1.17131249,  13.86677129, -39.52781712,\n",
       "       -26.1678568 , -44.39805981, -47.34392353,  63.80397422,\n",
       "        55.64901169, -55.00211747,  20.57604435,  65.9785478 ,\n",
       "       -18.90551987,  72.96570404,  59.51463171,  76.21703061,\n",
       "       -56.89992397, -88.05149783])"
      ]
     },
     "execution_count": 20,
     "metadata": {},
     "output_type": "execute_result"
    }
   ],
   "source": [
    "np.random.uniform(-90.000, 90.000, size=50)"
   ]
  },
  {
   "cell_type": "code",
   "execution_count": 21,
   "id": "35cbcb92",
   "metadata": {},
   "outputs": [],
   "source": [
    "# Import timeit.\n",
    "import timeit"
   ]
  },
  {
   "cell_type": "code",
   "execution_count": 22,
   "id": "f93189d9",
   "metadata": {},
   "outputs": [
    {
     "name": "stdout",
     "output_type": "stream",
     "text": [
      "15.3 µs ± 660 ns per loop (mean ± std. dev. of 7 runs, 100000 loops each)\n"
     ]
    }
   ],
   "source": [
    "%timeit np.random.uniform(-90.000, 90.000, size=1500)"
   ]
  },
  {
   "cell_type": "code",
   "execution_count": 23,
   "id": "e3cd6057",
   "metadata": {},
   "outputs": [
    {
     "name": "stdout",
     "output_type": "stream",
     "text": [
      "1.75 ms ± 75.7 µs per loop (mean ± std. dev. of 7 runs, 1000 loops each)\n"
     ]
    }
   ],
   "source": [
    "def latitudes(size):\n",
    "    latitudes = []\n",
    "    x = 0\n",
    "    while x < (size):\n",
    "        random_lat = random.randint(-90, 90) + random.random()\n",
    "        latitudes.append(random_lat)\n",
    "        x += 1\n",
    "    return latitudes\n",
    "# Call the function with 1500.\n",
    "%timeit latitudes(1500)"
   ]
  },
  {
   "cell_type": "code",
   "execution_count": null,
   "id": "d53d2070",
   "metadata": {},
   "outputs": [],
   "source": []
  }
 ],
 "metadata": {
  "kernelspec": {
   "display_name": "PythonData",
   "language": "python",
   "name": "pythondata"
  },
  "language_info": {
   "codemirror_mode": {
    "name": "ipython",
    "version": 3
   },
   "file_extension": ".py",
   "mimetype": "text/x-python",
   "name": "python",
   "nbconvert_exporter": "python",
   "pygments_lexer": "ipython3",
   "version": "3.7.13"
  }
 },
 "nbformat": 4,
 "nbformat_minor": 5
}
